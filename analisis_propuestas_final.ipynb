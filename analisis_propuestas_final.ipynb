{
 "cells": [
  {
   "cell_type": "markdown",
   "metadata": {},
   "source": [
    "# Análisis Comparativo de Propuestas de Bonificación"
   ]
  },
  {
   "cell_type": "markdown",
   "metadata": {},
   "source": [
    "# 1. Configuración Inicial\n",
    "\n",
    "#### Importación de Bibliotecas y Configuración"
   ]
  },
  {
   "cell_type": "code",
   "execution_count": 1,
   "metadata": {},
   "outputs": [],
   "source": [
    "import pandas as pd  \n",
    "import os  \n",
    "\n",
    "# Definir la ruta del directorio  \n",
    "ruta_directorio = r'C:\\Users\\Francisco Villanueva\\Desktop\\TALLER_2'"
   ]
  },
  {
   "cell_type": "markdown",
   "metadata": {},
   "source": [
    "# 2. Estructura Principal y Manejo de Errores"
   ]
  },
  {
   "cell_type": "code",
   "execution_count": 20,
   "metadata": {},
   "outputs": [],
   "source": [
    "# Estructura principal del programa  \n",
    "try:  \n",
    "    # El código principal irá aquí en los siguientes pasos  \n",
    "    pass  # Este pass es temporal y se reemplazará con el código real  \n",
    "except Exception as e:  \n",
    "    print(f\"Error durante el análisis: {str(e)}\")  "
   ]
  },
  {
   "cell_type": "markdown",
   "metadata": {},
   "source": [
    "# 3. Carga y Limpieza de Datos"
   ]
  },
  {
   "cell_type": "code",
   "execution_count": 21,
   "metadata": {},
   "outputs": [],
   "source": [
    "# Leer el archivo Excel original  \n",
    "df = pd.read_excel(os.path.join(ruta_directorio, 'Base_control_2.xlsx'))  \n",
    "\n",
    "# Limpieza básica de datos  \n",
    "df_limpio = df.dropna(subset=['Nombre Ejecutivo'])  \n",
    "df_limpio = df_limpio[  \n",
    "    (df_limpio['Nombre Ejecutivo'] != 'n/d') &  \n",
    "    (df_limpio['Nombre Ejecutivo'] != 'ejecutivo prueba') &  \n",
    "    (~df_limpio['Nombre Ejecutivo'].str.contains('ejecutivo prueba', case=False, na=False))  \n",
    "]  \n",
    "\n",
    "# Convertir fecha y filtrar años  \n",
    "df_limpio.iloc[:, 1] = pd.to_datetime(df_limpio.iloc[:, 1])  \n",
    "df_limpio = df_limpio[df_limpio.iloc[:, 1].dt.year.isin([2023, 2024])]  "
   ]
  },
  {
   "cell_type": "markdown",
   "metadata": {},
   "source": [
    "# 4. Definición de Funciones para Cálculo de Bonos"
   ]
  },
  {
   "cell_type": "code",
   "execution_count": 22,
   "metadata": {},
   "outputs": [],
   "source": [
    "def calcular_bono_propuesta1(monto):  \n",
    "    if monto < 50000000:  \n",
    "        return monto * 0.0025  \n",
    "    elif 50000000 <= monto <= 200000000:  \n",
    "        return monto * 0.0050  \n",
    "    else:  \n",
    "        return monto * 0.0060  \n",
    "\n",
    "def calcular_bono_propuesta2(ingreso):  \n",
    "    if ingreso < 100000:  \n",
    "        return ingreso * 0.0500  \n",
    "    elif 100000 <= ingreso <= 1000000:  \n",
    "        return ingreso * 0.0875  \n",
    "    else:  \n",
    "        return ingreso * 0.1000  \n",
    "\n",
    "def calcular_bono_propuesta3(monto):  \n",
    "    if monto < 50000000:  \n",
    "        return monto * 0.0015  # 0.15%  \n",
    "    elif 50000000 <= monto <= 200000000:  \n",
    "        return monto * 0.0040  # 0.40%  \n",
    "    else:  \n",
    "        return monto * 0.0050  # 0.50%  \n",
    "\n",
    "def calcular_bono_fijo_propuesta3(num_clientes):  \n",
    "    if num_clientes < 8:  \n",
    "        return 50000  \n",
    "    elif 8 <= num_clientes <= 14:  \n",
    "        return 120000  \n",
    "    else:  \n",
    "        return 350000"
   ]
  },
  {
   "cell_type": "markdown",
   "metadata": {},
   "source": [
    "# 5. Aplicación de Cálculos y Preparación de Datos"
   ]
  },
  {
   "cell_type": "code",
   "execution_count": 23,
   "metadata": {},
   "outputs": [],
   "source": [
    "# Aplicar cálculos de bonos y redondear a 2 decimales  \n",
    "df_limpio['Bono_Propuesta_1'] = df_limpio['Monto factura'].apply(calcular_bono_propuesta1).round(2)  \n",
    "df_limpio['Bono_Propuesta_2'] = df_limpio['Ingreso por operación'].apply(calcular_bono_propuesta2).round(2)  \n",
    "df_limpio['Bono_Propuesta_3'] = df_limpio['Monto factura'].apply(calcular_bono_propuesta3).round(2)  \n",
    "\n",
    "# Agregar año y mes  \n",
    "df_limpio['Año'] = df_limpio.iloc[:, 1].dt.year  \n",
    "df_limpio['Mes'] = df_limpio.iloc[:, 1].dt.month"
   ]
  },
  {
   "cell_type": "markdown",
   "metadata": {},
   "source": [
    "# 6. Generación de Resumen Mensual"
   ]
  },
  {
   "cell_type": "code",
   "execution_count": 24,
   "metadata": {},
   "outputs": [],
   "source": [
    "# Crear resumen mensual  \n",
    "resumen_mensual = df_limpio.groupby(['Nombre Ejecutivo', 'Año', 'Mes']).agg({  \n",
    "    'Monto factura': ['sum', 'count', 'mean'],  \n",
    "    'Ingreso por operación': ['sum', 'mean'],  \n",
    "    'Bono_Propuesta_1': 'sum',  \n",
    "    'Bono_Propuesta_2': 'sum',  \n",
    "    'Bono_Propuesta_3': 'sum',  \n",
    "    'Nombre empresa solicitante': 'nunique'  # Este es el que cuenta clientes únicos  \n",
    "}).reset_index()  \n",
    "\n",
    "# Aplanar columnas multinivel  \n",
    "resumen_mensual.columns = ['Ejecutivo', 'Año', 'Mes', 'Monto_Total',  \n",
    "                        'Num_Operaciones', 'Monto_Promedio',  \n",
    "                        'Ingreso_Total', 'Ingreso_Promedio',  \n",
    "                        'Bono_1', 'Bono_2', 'Bono_3',  \n",
    "                        'Num_Clientes_Unicos']  \n",
    "\n",
    "# Convertir Num_Clientes_Unicos a entero  \n",
    "resumen_mensual['Num_Clientes_Unicos'] = resumen_mensual['Num_Clientes_Unicos'].astype(int)"
   ]
  },
  {
   "cell_type": "markdown",
   "metadata": {},
   "source": [
    "# 7. Cálculo de Bonos Totales"
   ]
  },
  {
   "cell_type": "code",
   "execution_count": 25,
   "metadata": {},
   "outputs": [],
   "source": [
    "# Agregar bono fijo propuesta 3  \n",
    "resumen_mensual['Bono_Fijo_Prop3'] = resumen_mensual['Num_Clientes_Unicos'].apply(  \n",
    "    calcular_bono_fijo_propuesta3  \n",
    ").round(2)  \n",
    "\n",
    "# Calcular bonos totales  \n",
    "resumen_mensual['Bono_Total_Prop3'] = (resumen_mensual['Bono_3'] + resumen_mensual['Bono_Fijo_Prop3']).round(2)"
   ]
  },
  {
   "cell_type": "markdown",
   "metadata": {},
   "source": [
    "# 8. Análisis Estadístico"
   ]
  },
  {
   "cell_type": "code",
   "execution_count": 33,
   "metadata": {},
   "outputs": [],
   "source": [
    "# Análisis comparativo de las tres propuestas  \n",
    "comparativo = resumen_mensual.agg({  \n",
    "    'Bono_1': ['mean', 'min', 'max', 'std'],  \n",
    "    'Bono_2': ['mean', 'min', 'max', 'std'],  \n",
    "    'Bono_Total_Prop3': ['mean', 'min', 'max', 'std']  \n",
    "}).round(2)  \n",
    "\n",
    "# Análisis por ejecutivo y año  \n",
    "analisis_ejecutivo = resumen_mensual.groupby(['Ejecutivo', 'Año']).agg({  \n",
    "    'Bono_1': 'sum',  \n",
    "    'Bono_2': 'sum',  \n",
    "    'Bono_Total_Prop3': 'sum',  \n",
    "    'Num_Clientes_Unicos': 'max'  \n",
    "}).astype({  \n",
    "    'Num_Clientes_Unicos': 'int64'  \n",
    "})  \n",
    "\n",
    "# Redondeamos las columnas de bonos  \n",
    "columnas_bonos = ['Bono_1', 'Bono_2', 'Bono_Total_Prop3']  \n",
    "analisis_ejecutivo[columnas_bonos] = analisis_ejecutivo[columnas_bonos].round(2)  \n",
    "\n",
    "# Calcular el total de las tres propuestas y crear ranking  \n",
    "analisis_ejecutivo['Total_Bonos'] = analisis_ejecutivo[columnas_bonos].sum(axis=1).round(2)  \n",
    "\n",
    "# Resetear el índice y ordenar por Total_Bonos de mayor a menor  \n",
    "analisis_ejecutivo = analisis_ejecutivo.reset_index()  \n",
    "analisis_ejecutivo = analisis_ejecutivo.sort_values(['Año', 'Total_Bonos'], ascending=[True, False])  \n",
    "\n",
    "# Agregar columna de ranking por año  \n",
    "analisis_ejecutivo['Ranking'] = analisis_ejecutivo.groupby('Año')['Total_Bonos'].rank(ascending=False, method='min').astype(int)  \n",
    "\n",
    "# Reordenar las columnas para mejor visualización  \n",
    "analisis_ejecutivo = analisis_ejecutivo[[  \n",
    "    'Año',  \n",
    "    'Ranking',  \n",
    "    'Ejecutivo',  \n",
    "    'Bono_1',  \n",
    "    'Bono_2',  \n",
    "    'Bono_Total_Prop3',  \n",
    "    'Total_Bonos',  \n",
    "    'Num_Clientes_Unicos'  \n",
    "]]"
   ]
  },
  {
   "cell_type": "markdown",
   "metadata": {},
   "source": [
    "# 9. Presentación de Resultados y Exportación "
   ]
  },
  {
   "cell_type": "code",
   "execution_count": 34,
   "metadata": {},
   "outputs": [
    {
     "name": "stdout",
     "output_type": "stream",
     "text": [
      "\n",
      "Análisis completado. Archivo guardado en: C:\\Users\\Francisco Villanueva\\Desktop\\TALLER_2\\Analisis_Comparativo_Propuestas.xlsx\n",
      "\n",
      "Resumen Comparativo de Propuestas:\n",
      "\n",
      "Promedios mensuales:\n",
      "Bono Propuesta 1: $2,752,706.62\n",
      "Bono Propuesta 2: $469,872.22\n",
      "Bono Propuesta 3: $2,266,984.52\n",
      "\n",
      "Desviación estándar:\n",
      "Propuesta 1: $14,186,461.06\n",
      "Propuesta 2: $464,200.30\n",
      "Propuesta 3: $11,805,053.16\n",
      "\n",
      "La Propuesta 1 ofrece el mejor bono promedio mensual\n"
     ]
    }
   ],
   "source": [
    "# Definir ruta de archivo  \n",
    "ruta_archivo = os.path.join(ruta_directorio, 'Analisis_Comparativo_Propuestas.xlsx')  \n",
    "\n",
    "# Preparar el resumen para Excel  \n",
    "resumen_comparativo = pd.DataFrame({  \n",
    "    'Métrica': ['Promedio Mensual', 'Desviación Estándar'],  \n",
    "    'Propuesta 1': [  \n",
    "        f\"${comparativo.loc['mean', 'Bono_1']:,.2f}\",  \n",
    "        f\"${comparativo.loc['std', 'Bono_1']:,.2f}\"  \n",
    "    ],  \n",
    "    'Propuesta 2': [  \n",
    "        f\"${comparativo.loc['mean', 'Bono_2']:,.2f}\",  \n",
    "        f\"${comparativo.loc['std', 'Bono_2']:,.2f}\"  \n",
    "    ],  \n",
    "    'Propuesta 3': [  \n",
    "        f\"${comparativo.loc['mean', 'Bono_Total_Prop3']:,.2f}\",  \n",
    "        f\"${comparativo.loc['std', 'Bono_Total_Prop3']:,.2f}\"  \n",
    "    ]  \n",
    "})  \n",
    "\n",
    "# Identificar la mejor propuesta  \n",
    "promedios = {  \n",
    "    'Propuesta 1': comparativo.loc['mean', 'Bono_1'],  \n",
    "    'Propuesta 2': comparativo.loc['mean', 'Bono_2'],  \n",
    "    'Propuesta 3': comparativo.loc['mean', 'Bono_Total_Prop3']  \n",
    "}  \n",
    "mejor_propuesta = max(promedios, key=promedios.get)  \n",
    "\n",
    "# Agregar la conclusión al resumen  \n",
    "resumen_comparativo.loc[2] = ['Mejor Propuesta',   \n",
    "                            mejor_propuesta if mejor_propuesta == 'Propuesta 1' else '',  \n",
    "                            mejor_propuesta if mejor_propuesta == 'Propuesta 2' else '',  \n",
    "                            mejor_propuesta if mejor_propuesta == 'Propuesta 3' else '']  \n",
    "\n",
    "# Guardar todos los resultados en Excel  \n",
    "with pd.ExcelWriter(ruta_archivo, engine='openpyxl') as writer:  \n",
    "    # Resumen mensual detallado  \n",
    "    resumen_mensual.to_excel(  \n",
    "        writer,  \n",
    "        sheet_name='Resumen_Mensual',  \n",
    "        index=False  \n",
    "    )  \n",
    "    \n",
    "    # Análisis por ejecutivo (ranking)  \n",
    "    analisis_ejecutivo.to_excel(  \n",
    "        writer,  \n",
    "        sheet_name='Ranking_Ejecutivos',  \n",
    "        index=False  \n",
    "    )  \n",
    "    \n",
    "    # Comparativo general  \n",
    "    comparativo.to_excel(  \n",
    "        writer,  \n",
    "        sheet_name='Comparativo_General'  \n",
    "    )  \n",
    "    \n",
    "    # Resumen comparativo con conclusión  \n",
    "    resumen_comparativo.to_excel(  \n",
    "        writer,  \n",
    "        sheet_name='Resumen_Final',  \n",
    "        index=False  \n",
    "    )  \n",
    "    \n",
    "    # Datos procesados  \n",
    "    df_limpio.to_excel(  \n",
    "        writer,  \n",
    "        sheet_name='Datos_Procesados',  \n",
    "        index=False  \n",
    "    )  \n",
    "\n",
    "# Mostrar mensaje de completado y resumen en consola  \n",
    "print(f\"\\nAnálisis completado. Archivo guardado en: {ruta_archivo}\")  \n",
    "print(\"\\nResumen Comparativo de Propuestas:\")  \n",
    "print(\"\\nPromedios mensuales:\")  \n",
    "print(f\"Bono Propuesta 1: ${comparativo.loc['mean', 'Bono_1']:,.2f}\")  \n",
    "print(f\"Bono Propuesta 2: ${comparativo.loc['mean', 'Bono_2']:,.2f}\")  \n",
    "print(f\"Bono Propuesta 3: ${comparativo.loc['mean', 'Bono_Total_Prop3']:,.2f}\")  \n",
    "\n",
    "print(\"\\nDesviación estándar:\")  \n",
    "print(f\"Propuesta 1: ${comparativo.loc['std', 'Bono_1']:,.2f}\")  \n",
    "print(f\"Propuesta 2: ${comparativo.loc['std', 'Bono_2']:,.2f}\")  \n",
    "print(f\"Propuesta 3: ${comparativo.loc['std', 'Bono_Total_Prop3']:,.2f}\")  \n",
    "\n",
    "print(f\"\\nLa {mejor_propuesta} ofrece el mejor bono promedio mensual\")"
   ]
  }
 ],
 "metadata": {
  "kernelspec": {
   "display_name": "Python 3",
   "language": "python",
   "name": "python3"
  },
  "language_info": {
   "codemirror_mode": {
    "name": "ipython",
    "version": 3
   },
   "file_extension": ".py",
   "mimetype": "text/x-python",
   "name": "python",
   "nbconvert_exporter": "python",
   "pygments_lexer": "ipython3",
   "version": "3.12.5"
  }
 },
 "nbformat": 4,
 "nbformat_minor": 2
}

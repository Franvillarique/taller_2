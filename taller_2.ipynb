{
 "cells": [
  {
   "cell_type": "markdown",
   "metadata": {},
   "source": [
    "# Análisis de Bonos 2023-2024\n",
    "\n",
    "##### Este código implementa un sistema de análisis y cálculo de bonificaciones para ejecutivos comerciales, evaluando tres propuestas diferentes de compensación basadas en el desempeño. \n",
    "\n",
    "## 1. Importación de Librerías\n"
   ]
  },
  {
   "cell_type": "code",
   "execution_count": 104,
   "metadata": {},
   "outputs": [],
   "source": [
    "\n",
    "import pandas as pd\n",
    "import numpy as np\n",
    "import datetime\n",
    "from openpyxl.utils import get_column_letter\n"
   ]
  },
  {
   "cell_type": "markdown",
   "metadata": {},
   "source": [
    "## 2. Lectura y Limpieza de Datos"
   ]
  },
  {
   "cell_type": "code",
   "execution_count": 105,
   "metadata": {},
   "outputs": [],
   "source": [
    "# Leer el archivo Excel  \n",
    "df = pd.read_excel('Base_control_2.xlsx')  \n",
    "\n",
    "# Limpieza inicial de datos  \n",
    "df_limpio = df.dropna(subset=['Nombre Ejecutivo'])  \n",
    "df_limpio = df_limpio[  \n",
    "    (df_limpio['Nombre Ejecutivo'] != 'n/d') &  \n",
    "    (df_limpio['Nombre Ejecutivo'] != 'ejecutivo prueba') &  \n",
    "    (~df_limpio['Nombre Ejecutivo'].str.contains('ejecutivo prueba', case=False, na=False))  \n",
    "]  \n",
    "\n",
    "# Convertir la columna B a datetime y filtrar solo los años 2023 y 2024  \n",
    "df_limpio.iloc[:, 1] = pd.to_datetime(df_limpio.iloc[:, 1])  \n",
    "df_limpio = df_limpio[df_limpio.iloc[:, 1].dt.year.isin([2023, 2024])]  "
   ]
  },
  {
   "cell_type": "markdown",
   "metadata": {},
   "source": [
    "## 3. Definición de Funciones de Cálculo\n",
    "### 3.1 Cálculo de Bonos - Propuesta 1"
   ]
  },
  {
   "cell_type": "code",
   "execution_count": 107,
   "metadata": {},
   "outputs": [],
   "source": [
    "def calcular_bono(monto):  \n",
    "    if monto < 50000000:  \n",
    "        return monto * 0.0025  \n",
    "    elif 50000000 <= monto <= 200000000:  \n",
    "        return monto * 0.0050  \n",
    "    else:  \n",
    "        return monto * 0.0060  "
   ]
  },
  {
   "cell_type": "markdown",
   "metadata": {},
   "source": [
    "### 3.2 Cálculo de Bonos - Propuesta 2"
   ]
  },
  {
   "cell_type": "code",
   "execution_count": 108,
   "metadata": {},
   "outputs": [],
   "source": [
    "def calcular_bono_ingreso(ingreso):  \n",
    "    if ingreso < 100000:  \n",
    "        return ingreso * 0.0500  \n",
    "    elif 100000 <= ingreso <= 1000000:  \n",
    "        return ingreso * 0.0875  \n",
    "    else:  \n",
    "        return ingreso * 0.1000  "
   ]
  },
  {
   "cell_type": "markdown",
   "metadata": {},
   "source": [
    "### 3.3 Clasificación de Montos"
   ]
  },
  {
   "cell_type": "code",
   "execution_count": 95,
   "metadata": {},
   "outputs": [],
   "source": [
    "def clasificar_monto(monto):  \n",
    "    if monto < 50000000:  \n",
    "        return 'Bajo valor'  \n",
    "    elif 50000000 <= monto <= 200000000:  \n",
    "        return 'Medio Valor'  \n",
    "    else:  \n",
    "        return 'Alto Valor' "
   ]
  },
  {
   "cell_type": "markdown",
   "metadata": {},
   "source": [
    "### 4. Aplicación de Cálculos"
   ]
  },
  {
   "cell_type": "code",
   "execution_count": 96,
   "metadata": {},
   "outputs": [],
   "source": [
    "\n",
    "# Aplicar el cálculo de bonos y clasificaciones  \n",
    "df_limpio['Bono'] = df_limpio['Monto factura'].apply(calcular_bono)  \n",
    "df_limpio['Bono_2'] = df_limpio['Ingreso por operación'].apply(calcular_bono_ingreso)  \n",
    "df_limpio['Clasificación'] = df_limpio['Monto factura'].apply(clasificar_monto)  "
   ]
  },
  {
   "cell_type": "markdown",
   "metadata": {},
   "source": [
    "### 5. Función Principal de Resumen"
   ]
  },
  {
   "cell_type": "code",
   "execution_count": 101,
   "metadata": {},
   "outputs": [],
   "source": [
    "def crear_resumen_completo(df):  \n",
    "    # Agregar columnas de año y mes si no existen  \n",
    "    df['Año'] = df.iloc[:, 1].dt.year  \n",
    "    df['Mes'] = df.iloc[:, 1].dt.month  \n",
    "    \n",
    "    # Resumen mensual  \n",
    "    resumen_mensual = df.groupby(['Nombre Ejecutivo', 'Año', 'Mes']).agg({  \n",
    "        'Monto factura': 'sum',  \n",
    "        'Ingreso por operación': 'sum',  \n",
    "        'Bono': 'sum',  \n",
    "        'Bono_2': 'sum',  \n",
    "        'Nombre empresa solicitante': 'nunique'  \n",
    "    }).reset_index()  \n",
    "    \n",
    "    # Calcular bono fijo mensual basado en cantidad de clientes  \n",
    "    def calcular_bono_fijo(num_clientes):  \n",
    "        if num_clientes < 8:  \n",
    "            return 50000  \n",
    "        elif num_clientes <= 12:  \n",
    "            return 120000  \n",
    "        else:  \n",
    "            return 250000  \n",
    "    \n",
    "    def clasificar_trafico(num_clientes):  \n",
    "        if num_clientes < 8:  \n",
    "            return 'Bajo tráfico'  \n",
    "        elif num_clientes <= 12:  \n",
    "            return 'Medio tráfico'  \n",
    "        else:  \n",
    "            return 'Alto tráfico'  \n",
    "    \n",
    "    # Agregar bonos fijos y clasificación  \n",
    "    resumen_mensual['Bono_Fijo'] = resumen_mensual['Nombre empresa solicitante'].apply(calcular_bono_fijo)  \n",
    "    resumen_mensual['Clasificación_Tráfico'] = resumen_mensual['Nombre empresa solicitante'].apply(clasificar_trafico)  \n",
    "    \n",
    "    # Calcular totales de bonos  \n",
    "    resumen_mensual['Bono_Total_Mensual_Propuesta_1'] = (  \n",
    "        resumen_mensual['Bono'] +  \n",
    "        resumen_mensual['Bono_Fijo']  \n",
    "    )  \n",
    "    \n",
    "    resumen_mensual['Bono_Total_Mensual_Propuesta_2'] = (  \n",
    "        resumen_mensual['Bono_2'] +  \n",
    "        resumen_mensual['Bono_Fijo']  \n",
    "    )  \n",
    "    \n",
    "    # Renombrar columnas  \n",
    "    resumen_mensual = resumen_mensual.rename(columns={  \n",
    "        'Nombre Ejecutivo': 'Ejecutivo',  \n",
    "        'Monto factura': 'Monto Total Facturas',  \n",
    "        'Ingreso por operación': 'Ingreso Total',  \n",
    "        'Bono': 'Bono Propuesta 1',  \n",
    "        'Bono_2': 'Bono Propuesta 2',  \n",
    "        'Nombre empresa solicitante': 'Cantidad Clientes'  \n",
    "    })  \n",
    "    \n",
    "    # Crear resumen anual  \n",
    "    resumen_anual = resumen_mensual.groupby(['Ejecutivo', 'Año']).agg({  \n",
    "        'Monto Total Facturas': 'sum',  \n",
    "        'Ingreso Total': 'sum',  \n",
    "        'Bono Propuesta 1': 'sum',  \n",
    "        'Bono Propuesta 2': 'sum',  \n",
    "        'Cantidad Clientes': 'mean',  \n",
    "        'Bono_Fijo': 'sum',  \n",
    "        'Bono_Total_Mensual_Propuesta_1': 'sum',  \n",
    "        'Bono_Total_Mensual_Propuesta_2': 'sum'  \n",
    "    }).reset_index()  \n",
    "    \n",
    "    # Agregar clasificación promedio anual  \n",
    "    resumen_anual['Clasificación_Tráfico_Promedio'] = resumen_anual['Cantidad Clientes'].apply(clasificar_trafico)  \n",
    "    \n",
    "    # Ordenar los resultados  \n",
    "    resumen_mensual = resumen_mensual.sort_values(['Ejecutivo', 'Año', 'Mes'])  \n",
    "    resumen_anual = resumen_anual.sort_values(['Ejecutivo', 'Año'])  \n",
    "    \n",
    "    # Reordenar las columnas  \n",
    "    resumen_mensual = resumen_mensual[[  \n",
    "        'Ejecutivo', 'Año', 'Mes',  \n",
    "        'Monto Total Facturas', 'Ingreso Total',  \n",
    "        'Bono Propuesta 1', 'Bono Propuesta 2',  \n",
    "        'Cantidad Clientes', 'Clasificación_Tráfico',  \n",
    "        'Bono_Fijo',  \n",
    "        'Bono_Total_Mensual_Propuesta_1',  \n",
    "        'Bono_Total_Mensual_Propuesta_2'  \n",
    "    ]]  \n",
    "    \n",
    "    resumen_anual = resumen_anual[[  \n",
    "        'Ejecutivo', 'Año',  \n",
    "        'Monto Total Facturas', 'Ingreso Total',  \n",
    "        'Bono Propuesta 1', 'Bono Propuesta 2',  \n",
    "        'Cantidad Clientes', 'Bono_Fijo',  \n",
    "        'Bono_Total_Mensual_Propuesta_1',  \n",
    "        'Bono_Total_Mensual_Propuesta_2',  \n",
    "        'Clasificación_Tráfico_Promedio'  \n",
    "    ]]  \n",
    "    \n",
    "    return resumen_mensual, resumen_anual "
   ]
  },
  {
   "cell_type": "markdown",
   "metadata": {},
   "source": [
    "### 6. Generación de Resúmenes"
   ]
  },
  {
   "cell_type": "code",
   "execution_count": 102,
   "metadata": {},
   "outputs": [],
   "source": [
    "# Crear los resúmenes  \n",
    "resumen_mensual, resumen_anual = crear_resumen_completo(df_limpio)  \n",
    "\n",
    "# Crear resumen por ejecutivo  \n",
    "resumen_ejecutivo = df_limpio.groupby('Nombre Ejecutivo', as_index=False).agg({  \n",
    "    'Monto factura': 'sum',  \n",
    "    'Ingreso por operación': 'sum',  \n",
    "    'Bono': 'sum',  \n",
    "    'Bono_2': 'sum',  \n",
    "    'Nombre empresa solicitante': 'nunique'  \n",
    "})  \n",
    "\n",
    "# Renombrar columnas del resumen ejecutivo  \n",
    "resumen_ejecutivo.columns = ['Ejecutivo', 'Monto Total', 'Ingreso Total',  \n",
    "                           'Bono Total P1', 'Bono Total P2', 'Total Clientes']  \n",
    "\n",
    "# Calcular totales por mes y año  \n",
    "df_limpio['Año'] = df_limpio.iloc[:, 1].dt.year  \n",
    "df_limpio['Mes'] = df_limpio.iloc[:, 1].dt.month  \n",
    "\n",
    "totales_mes_año = df_limpio.groupby(['Año', 'Mes']).agg({  \n",
    "    'Monto factura': 'sum',  \n",
    "    'Ingreso por operación': 'sum',  \n",
    "    'Bono': 'sum',  \n",
    "    'Bono_2': 'sum',  \n",
    "    'Nombre empresa solicitante': 'nunique'  \n",
    "}).reset_index()  \n",
    "\n",
    "# Renombrar columnas de totales_mes_año  \n",
    "totales_mes_año.columns = ['Año', 'Mes', 'Monto Total', 'Ingreso Total',  \n",
    "                          'Bono Total P1', 'Bono Total P2', 'Total Clientes']"
   ]
  },
  {
   "cell_type": "markdown",
   "metadata": {},
   "source": [
    "### 7. Exportación de Resultados"
   ]
  },
  {
   "cell_type": "code",
   "execution_count": null,
   "metadata": {},
   "outputs": [],
   "source": [
    "# Exportar todos los resúmenes a Excel   \n",
    "with pd.ExcelWriter('Resultado_Bonos_2023_2024_Completo.xlsx', engine='openpyxl') as writer:  \n",
    "    # Datos procesados  \n",
    "    df_limpio.to_excel(writer, sheet_name='Datos_Procesados', index=False)  \n",
    "    \n",
    "    # Resumen mensual por ejecutivo  \n",
    "    resumen_mensual.to_excel(writer, sheet_name='Resumen_Mensual', index=False)  \n",
    "    \n",
    "    # Resumen anual por ejecutivo  \n",
    "    resumen_anual.to_excel(writer, sheet_name='Resumen_Anual', index=False)  \n",
    "    \n",
    "    # Resumen general por ejecutivo  \n",
    "    resumen_ejecutivo.to_excel(writer, sheet_name='Resumen_Por_Ejecutivo', index=False)  \n",
    "    \n",
    "    # Totales por mes y año  \n",
    "    totales_mes_año.to_excel(writer, sheet_name='Totales_Mes_Año', index=False)  \n",
    "    \n",
    "    # Crear pivot tables para análisis adicional  \n",
    "    pivot_mensual = pd.pivot_table(  \n",
    "        resumen_mensual,  \n",
    "        values=['Monto Total Facturas', 'Ingreso Total',  \n",
    "                'Bono_Total_Mensual_Propuesta_1', 'Bono_Total_Mensual_Propuesta_2'],  \n",
    "        index=['Ejecutivo'],  \n",
    "        columns=['Año', 'Mes'],  \n",
    "        aggfunc='sum'  \n",
    "    ).round(2)  \n",
    "    \n",
    "    pivot_mensual.to_excel(writer, sheet_name='Análisis_Mensual_Pivot')  \n",
    "    \n",
    "    # Aplicar formato a todas las hojas  \n",
    "    for sheet_name in writer.sheets:  \n",
    "        worksheet = writer.sheets[sheet_name]  \n",
    "        \n",
    "        # Ajustar el ancho de las columnas  \n",
    "        for idx, col in enumerate(worksheet.columns, 1):  \n",
    "            max_length = 0  \n",
    "            column = get_column_letter(idx)  \n",
    "            \n",
    "            for cell in col:  \n",
    "                try:  \n",
    "                    if len(str(cell.value)) > max_length:  \n",
    "                        max_length = len(str(cell.value))  \n",
    "                except:  \n",
    "                    pass  \n",
    "            \n",
    "            adjusted_width = (max_length + 2)  \n",
    "            worksheet.column_dimensions[column].width = adjusted_width"
   ]
  },
  {
   "cell_type": "markdown",
   "metadata": {},
   "source": [
    "### 8. Visualización de Resultados"
   ]
  },
  {
   "cell_type": "code",
   "execution_count": 100,
   "metadata": {},
   "outputs": [
    {
     "name": "stdout",
     "output_type": "stream",
     "text": [
      "\n",
      "Resumen de datos exportados:\n",
      "1. Datos Procesados: 33232 registros\n",
      "2. Resumen Mensual: 476 registros\n",
      "3. Resumen Anual: 59 registros\n",
      "4. Resumen por Ejecutivo: 33 ejecutivos\n",
      "5. Totales por Mes y Año: 24 períodos\n",
      "\n",
      "Ejemplo de Resumen Mensual (primeras 3 filas):\n",
      "     Ejecutivo   Año  Mes  Monto Total Facturas  Ingreso Total  \\\n",
      "0  Ejecutivo 1  2023    1           653288949.0        9478906   \n",
      "1  Ejecutivo 1  2023    2           629406729.0        9296944   \n",
      "2  Ejecutivo 1  2023    3           754858337.0        8915311   \n",
      "\n",
      "   Bono Propuesta 1  Bono Propuesta 2  Cantidad Clientes  \\\n",
      "0      2.373417e+06       710606.8250                 16   \n",
      "1      2.315287e+06       704367.4250                 14   \n",
      "2      2.485364e+06       640203.2375                 14   \n",
      "\n",
      "  Clasificación_Tráfico  Bono_Fijo  Bono_Total_Mensual_Propuesta_1  \\\n",
      "0          Alto tráfico     250000                    2.623417e+06   \n",
      "1          Alto tráfico     250000                    2.565287e+06   \n",
      "2          Alto tráfico     250000                    2.735364e+06   \n",
      "\n",
      "   Bono_Total_Mensual_Propuesta_2  \n",
      "0                     960606.8250  \n",
      "1                     954367.4250  \n",
      "2                     890203.2375  \n"
     ]
    }
   ],
   "source": [
    "# Imprimir resúmenes para verificación  \n",
    "print(\"\\nResumen de datos exportados:\")  \n",
    "print(f\"1. Datos Procesados: {len(df_limpio)} registros\")  \n",
    "print(f\"2. Resumen Mensual: {len(resumen_mensual)} registros\")  \n",
    "print(f\"3. Resumen Anual: {len(resumen_anual)} registros\")  \n",
    "print(f\"4. Resumen por Ejecutivo: {len(resumen_ejecutivo)} ejecutivos\")  \n",
    "print(f\"5. Totales por Mes y Año: {len(totales_mes_año)} períodos\")  \n",
    "\n",
    "# Mostrar ejemplos de cada resumen  \n",
    "print(\"\\nEjemplo de Resumen Mensual (primeras 3 filas):\")  \n",
    "print(resumen_mensual.head(3)) "
   ]
  }
 ],
 "metadata": {
  "kernelspec": {
   "display_name": ".venv",
   "language": "python",
   "name": "python3"
  },
  "language_info": {
   "name": "python",
   "version": "3.12.5"
  }
 },
 "nbformat": 4,
 "nbformat_minor": 2
}
